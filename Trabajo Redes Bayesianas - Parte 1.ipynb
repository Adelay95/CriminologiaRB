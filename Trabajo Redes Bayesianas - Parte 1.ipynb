{
 "cells": [
  {
   "cell_type": "code",
   "execution_count": null,
   "metadata": {
    "collapsed": true
   },
   "outputs": [],
   "source": [
    "import networkx  # Permite trabajar con grafos\n",
    "import pgmpy.models as pgmm  # Modelos gráficos de probabilidad\n",
    "import pgmpy.factors as pgmf  # Tablas de probabilidades condicionales y\n",
    "                              # potenciales de probabilidad\n",
    "from pgmpy.readwrite import BIFWriter\n",
    "\n",
    "#import pgmpy.factors.discrete.CPD as pgmf\n",
    "import pgmpy.inference as pgmi  # Inferencia probabilística exacta"
   ]
  },
  {
   "cell_type": "code",
   "execution_count": null,
   "metadata": {
    "collapsed": true
   },
   "outputs": [],
   "source": [
    "Modelo_accidente = pgmm.BayesianModel()\n",
    "Modelo_accidente.add_nodes_from(['MarcasRueda', 'RuedaDesgastada', 'Aceite', 'Averia', 'Viento', 'Cristales', 'Caida', 'Sangre', 'Accidente', 'MarcasOtroVehiculo', 'Muerte'])\n",
    "Modelo_accidente.add_edges_from([('MarcasRueda', 'RuedaDesgastada'),\n",
    "                              ('MarcasRueda', 'Averia'),\n",
    "                              ('Aceite', 'Averia'),\n",
    "                              ('Averia', 'Caida'),\n",
    "                              ('Viento', 'Caida'),\n",
    "                              ('Cristales', 'Caida'),\n",
    "                              ('Caida', 'Accidente'),\n",
    "                              ('MarcasOtroVehiculo', 'Accidente'),\n",
    "                              ('Accidente', 'Muerte'),\n",
    "                              ('Sangre', 'Muerte')])"
   ]
  },
  {
   "cell_type": "code",
   "execution_count": null,
   "metadata": {},
   "outputs": [],
   "source": [
    "\n",
    "Modelo_accidente.nodes()"
   ]
  },
  {
   "cell_type": "code",
   "execution_count": null,
   "metadata": {},
   "outputs": [],
   "source": [
    "Modelo_accidente.edges()"
   ]
  },
  {
   "cell_type": "code",
   "execution_count": null,
   "metadata": {},
   "outputs": [],
   "source": [
    "MarcasRueda_CPD = pgmf.TabularCPD('MarcasRueda', 2, [[.1, .9]])\n",
    "print(MarcasRueda_CPD.values)\n",
    "MarcasRueda_CPD"
   ]
  },
  {
   "cell_type": "code",
   "execution_count": null,
   "metadata": {},
   "outputs": [],
   "source": [
    "Aceite_CPD = pgmf.TabularCPD('Aceite', 2, [[.3, .7]])\n",
    "print(Aceite_CPD.values)\n",
    "Aceite_CPD"
   ]
  },
  {
   "cell_type": "code",
   "execution_count": null,
   "metadata": {},
   "outputs": [],
   "source": [
    "RuedaDesgastada_CPD = pgmf.TabularCPD('RuedaDesgastada', 2, [[.4, .7], [.6, .3]], 'MarcasRueda', 2)\n",
    "print(RuedaDesgastada_CPD.values)\n",
    "RuedaDesgastada_CPD"
   ]
  },
  {
   "cell_type": "code",
   "execution_count": null,
   "metadata": {},
   "outputs": [],
   "source": [
    "Avería_CPD = pgmf.TabularCPD('Averia', 2, [[.9, .4, .3, .1], [.1, .6, .7, .9]] ,\n",
    "                             ['MarcasRueda', 'Aceite'], [2, 2])\n",
    "print(Avería_CPD.values)\n",
    "Avería_CPD"
   ]
  },
  {
   "cell_type": "code",
   "execution_count": null,
   "metadata": {},
   "outputs": [],
   "source": [
    "Viento_CPD = pgmf.TabularCPD('Viento', 2, [[.7, .3]])\n",
    "print(Viento_CPD.values)\n",
    "Viento_CPD"
   ]
  },
  {
   "cell_type": "code",
   "execution_count": null,
   "metadata": {},
   "outputs": [],
   "source": [
    "Cristales_CPD = pgmf.TabularCPD('Cristales', 2, [[.9, .1]])\n",
    "print(Cristales_CPD.values)\n",
    "Cristales_CPD"
   ]
  },
  {
   "cell_type": "code",
   "execution_count": null,
   "metadata": {},
   "outputs": [],
   "source": [
    "Caida_CPD = pgmf.TabularCPD('Caida', 2, [[.99, .5, .35, .1, .9, .3, .2, .01], [.01, .5, .65, .9, .1, .7, .8, .99]] ,\n",
    "                             ['Averia', 'Cristales', 'Viento'], [2, 2,2])\n",
    "print(Caida_CPD.values)\n",
    "Caida_CPD"
   ]
  },
  {
   "cell_type": "code",
   "execution_count": null,
   "metadata": {},
   "outputs": [],
   "source": [
    "MarcasOtroVehículo_CPD = pgmf.TabularCPD('MarcasOtroVehiculo', 2, [[.2, .8]])\n",
    "print(MarcasOtroVehículo_CPD.values)\n",
    "MarcasOtroVehículo_CPD"
   ]
  },
  {
   "cell_type": "code",
   "execution_count": null,
   "metadata": {},
   "outputs": [],
   "source": [
    "Accidente_CPD = pgmf.TabularCPD('Accidente', 2, [[.99, .4, .7, .1], [.01, .6, .3, .9]] ,\n",
    "                             ['Caida', 'MarcasOtroVehiculo'], [2, 2])\n",
    "print(Accidente_CPD.values)\n",
    "Accidente_CPD"
   ]
  },
  {
   "cell_type": "code",
   "execution_count": null,
   "metadata": {},
   "outputs": [],
   "source": [
    "Sangre_CPD = pgmf.TabularCPD('Sangre', 2, [[.9, .1]])\n",
    "print(Sangre_CPD.values)\n",
    "Sangre_CPD"
   ]
  },
  {
   "cell_type": "code",
   "execution_count": null,
   "metadata": {},
   "outputs": [],
   "source": [
    "Muerte_CPD = pgmf.TabularCPD('Muerte', 2, [[.9999, .7, .3, .1], [.0001, .3, .7, .9]] ,\n",
    "                             ['Sangre', 'Accidente'], [2, 2])\n",
    "print(Muerte_CPD.values)\n",
    "Muerte_CPD"
   ]
  },
  {
   "cell_type": "code",
   "execution_count": null,
   "metadata": {
    "scrolled": true
   },
   "outputs": [],
   "source": [
    "Modelo_accidente.add_cpds(MarcasRueda_CPD, Aceite_CPD, RuedaDesgastada_CPD, Avería_CPD, Viento_CPD,Cristales_CPD ,Caida_CPD ,MarcasOtroVehículo_CPD ,Accidente_CPD,Sangre_CPD,Muerte_CPD)\n",
    "Modelo_accidente.cpds"
   ]
  },
  {
   "cell_type": "code",
   "execution_count": null,
   "metadata": {
    "collapsed": true
   },
   "outputs": [],
   "source": [
    "writer = BIFWriter(Modelo_accidente)\n",
    "writer.write_bif('modelo_accidente.bif')"
   ]
  }
 ],
 "metadata": {
  "kernelspec": {
   "display_name": "Python 3",
   "language": "python",
   "name": "python3"
  },
  "language_info": {
   "codemirror_mode": {
    "name": "ipython",
    "version": 3
   },
   "file_extension": ".py",
   "mimetype": "text/x-python",
   "name": "python",
   "nbconvert_exporter": "python",
   "pygments_lexer": "ipython3",
   "version": "3.6.1"
  }
 },
 "nbformat": 4,
 "nbformat_minor": 2
}
