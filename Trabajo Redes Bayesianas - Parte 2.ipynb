{
 "cells": [
  {
   "cell_type": "markdown",
   "metadata": {},
   "source": [
    "# Trabajo sobre Redes Bayesianas"
   ]
  },
  {
   "cell_type": "markdown",
   "metadata": {},
   "source": [
    "### Trabajo realizado por:\n",
    "\n",
    "###### Francisco Javier Higueras Galván\n",
    "###### Sergio Torrijos Campano\n",
    "\n",
    "### Curso:\n",
    "\n",
    "###### 16-17\n"
   ]
  },
  {
   "cell_type": "markdown",
   "metadata": {},
   "source": [
    " "
   ]
  },
  {
   "cell_type": "markdown",
   "metadata": {},
   "source": [
    "# Proceso de Eliminación de Variables"
   ]
  },
  {
   "cell_type": "markdown",
   "metadata": {},
   "source": [
    "En primer lugar, se lleva a cabo la lectura de los ficheros , que pueden estar en formato ___\".bif\"___ o en formato ___\".xml\"___ para mayor comodidad del usuario.\n",
    "\n",
    "NOTA: Para cambiar el fichero según queramos xmlbif o bif deberemos cambiarlo en la casilla donde se declara la variable 'reader'. "
   ]
  },
  {
   "cell_type": "code",
   "execution_count": null,
   "metadata": {
    "collapsed": true,
    "scrolled": false
   },
   "outputs": [],
   "source": [
    "import networkx  # Permite trabajar con grafos\n",
    "import pgmpy.models as pgmm  # Modelos gráficos de probabilidad\n",
    "import pgmpy.factors as pgmf  # Tablas de probabilidades condicionales y\n",
    "                              # potenciales de probabilidad\n",
    "\n",
    "#import pgmpy.factors.discrete.CPD as pgmf\n",
    "import pgmpy.inference as pgmi  # Inferencia probabilística exacta\n",
    "import pgmpy.readwrite.BIF as rwBIF\n",
    "\n",
    "from pgmpy.readwrite import BIFReader\n",
    "from pgmpy.readwrite import XMLBIFReader\n",
    "\n",
    "    \n",
    "#reader = XMLBIFReader(\"influenzaSmokes.xml\")\n",
    "reader = BIFReader(\"Modelo_accidente.bif\")\n",
    "Redes=reader.get_model()"
   ]
  },
  {
   "cell_type": "markdown",
   "metadata": {},
   "source": [
    "Con el método ___\"Descartar variables\"___ , dada la red , el nodo al cual queremos calcular la probabilidad y una o más evidencias, nos devolverá la lista de variables que son descartadas por no ser antecesoras de ninguna variable de evidencia o consulta."
   ]
  },
  {
   "cell_type": "code",
   "execution_count": null,
   "metadata": {
    "collapsed": true
   },
   "outputs": [],
   "source": [
    "def Descartar_variables(red,node,listaFijos):\n",
    "    ancestros = set()\n",
    "    listaFijosDefinitiva = listaFijos.copy()\n",
    "    for nodes in node:\n",
    "        ancestros.add(nodes)\n",
    "    for lista in listaFijos:\n",
    "     #   copia = listaFijos.copy()\n",
    "     #   copia.remove(lista)\n",
    "      #  if red.is_active_trail(node, lista, copia):\n",
    "            ancestros.add(lista)\n",
    "     #   else:\n",
    "        #    listaFijosDeminitiva.remove(lista)\n",
    "    for variable in ancestros.copy():\n",
    "        ancestros |= networkx.ancestors(Redes, variable)\n",
    "    VariablesDescartadas=set(red.nodes()) - ancestros\n",
    "    print(\"Las variables descartadas son :\")\n",
    "    print(VariablesDescartadas)\n",
    "    return ancestros"
   ]
  },
  {
   "cell_type": "markdown",
   "metadata": {},
   "source": [
    "Con el método ___\"Obtener Factores\"___ conseguimos obtener todos los factores de la lista de variables obtenidas en el método anterior."
   ]
  },
  {
   "cell_type": "code",
   "execution_count": null,
   "metadata": {
    "collapsed": true
   },
   "outputs": [],
   "source": [
    "def Obtener_Factores(red,listaVariables,listaFijas,listaCardinalidades):\n",
    "    VariablesNoFijas=list(set(listaVariables) - set(listaFijas))\n",
    "    ListaFactores={\"Nombre\":\"Arturo Elias\",\"Apellido\":\"Anton\"}\n",
    "    ListaFactores.clear()\n",
    "    i=0\n",
    "   \n",
    "    for vnf in VariablesNoFijas:\n",
    "        Tabla_CPD=red.get_cpds(vnf)\n",
    "        phi_R = Tabla_CPD.to_factor()\n",
    "        ListaFactores[vnf]=phi_R\n",
    "    for lf in listaFijas:\n",
    "        Tabla_CPD=red.get_cpds(lf)\n",
    "        phi_S=Tabla_CPD.to_factor()\n",
    "        phi_S.reduce([(lf, listaCardinalidades[i])])\n",
    "        ListaFactores[lf]=phi_S\n",
    "        i=i+1\n",
    "    return ListaFactores"
   ]
  },
  {
   "cell_type": "markdown",
   "metadata": {},
   "source": [
    "Con el método ___\"Descartar Fijos\"___, dadas las variables de evidencia y consulta, eliminamos las variables dadas del método de eliminación de variables si éstas son independientes del nodo que queremos consultar y las otras variables fijas."
   ]
  },
  {
   "cell_type": "code",
   "execution_count": null,
   "metadata": {
    "collapsed": true
   },
   "outputs": [],
   "source": [
    "def Descartar_fijos(red,node,listaFijos):\n",
    "    numeroListaFijos=len(listaFijos)\n",
    "    listaFijosProvisional=listaFijos.copy()\n",
    "    for nodo in node:\n",
    "        elnodo=nodo\n",
    "    while numeroListaFijos<=len(listaFijos):\n",
    "        numeroListaFijos=len(listaFijosProvisional)\n",
    "        listaFijosProvisional=listaFijos.copy()\n",
    "        for fijo in listaFijosProvisional:\n",
    "            listaFijos.remove(fijo)\n",
    "            if len(listaFijos) <=0:\n",
    "                 dependientes=red.active_trail_nodes(elnodo)\n",
    "            else:\n",
    "                 dependientes=red.active_trail_nodes(elnodo,listaFijos)\n",
    "            if fijo not in dependientes:\n",
    "                break\n",
    "            else:\n",
    "                listaFijos.append(fijo)\n",
    "        if numeroListaFijos == len(listaFijos):\n",
    "            numeroListaFijos=numeroListaFijos + 1\n",
    "    return listaFijos"
   ]
  },
  {
   "cell_type": "markdown",
   "metadata": {},
   "source": [
    "El método ___\"Min Degree Heuristica\"___, una lista de variables ordenadas según el orden que hay que seguir para su eliminación siguiendo la heurística: ___MIN DEGREE___"
   ]
  },
  {
   "cell_type": "code",
   "execution_count": null,
   "metadata": {
    "collapsed": true
   },
   "outputs": [],
   "source": [
    "def Min_Degree_Heuristica(ListaFactores,node):\n",
    "    listaFactoresOrdenada=list()\n",
    "    for nodo in node:\n",
    "        del ListaFactores[nodo]\n",
    "    numeroIncluidos=len(ListaFactores)\n",
    "    minimo=0\n",
    "    minimoIncluido=numeroIncluidos\n",
    "    while numeroIncluidos!=0:\n",
    "        for key,value in ListaFactores.items():\n",
    "            if len(value.scope())==minimo:\n",
    "                listaFactoresOrdenada.append(key)\n",
    "                del ListaFactores[key]\n",
    "                numeroIncluidos=numeroIncluidos-1\n",
    "                break\n",
    "            else:\n",
    "                continue\n",
    "        if minimoIncluido==numeroIncluidos:\n",
    "            minimo=minimo+1\n",
    "        else:\n",
    "            minimoIncluido=numeroIncluidos\n",
    "    return listaFactoresOrdenada"
   ]
  },
  {
   "cell_type": "markdown",
   "metadata": {},
   "source": [
    "El método ___\"recomendador\"___ nos devuelve , una vez finalizada la consulta, una recomendación para realizar una nueva consulta con unas variables de evidencia distintas a las seleccionadas inicialmente, que nos aportaran unos resultados más optimos para la consulta que estamos realizando.\n",
    "En caso de no haber variables de evidencia que nos aporten mejores resultados de los obtenidos, se le comunicará de igual manera al usuario."
   ]
  },
  {
   "cell_type": "code",
   "execution_count": null,
   "metadata": {
    "collapsed": true
   },
   "outputs": [],
   "source": [
    "def recomendador(red,atributo1,atributo2):\n",
    "    result=list()\n",
    "    ancestrillos= networkx.ancestors(red, atributo1)\n",
    "    \n",
    "    if not ancestrillos:\n",
    "        print(\"Usted ha escogido la mejor elección de evidencias\")\n",
    "        \n",
    "    else :\n",
    "        for i in ancestrillos:\n",
    "            if atributo1 in red.neighbors(i) and i not in atributo2:\n",
    "                result.append(i)\n",
    "    \n",
    "    return result"
   ]
  },
  {
   "cell_type": "markdown",
   "metadata": {},
   "source": [
    "El método ___\"eliminar Variables\"___ dada la lista de factores obtenida en un método anterior, y la lista de variables ordenadas según la heurística deseada por el usuario para obtener un orden en la eliminación de las mismas, obtenemos finalmente el resultado obtenido de la consulta previamente realizada"
   ]
  },
  {
   "cell_type": "code",
   "execution_count": null,
   "metadata": {
    "collapsed": true
   },
   "outputs": [],
   "source": [
    "def eliminar_variables(red,listaFactoresOrdenados,listaFactores2,nodes):\n",
    "    phi_noT='vacio'\n",
    "    for factorillo in listaFactoresOrdenados:\n",
    "        listaFactorado=set()\n",
    "        listaVariables=set()\n",
    "\n",
    "\n",
    "        for listaFactorcillo in list(listaFactores2.keys()):\n",
    "            if factorillo in listaFactores2[listaFactorcillo].scope():\n",
    "                listaFactorado.add(listaFactores2[listaFactorcillo])\n",
    "                listaVariables.add(listaFactorcillo)\n",
    "            else :\n",
    "                continue\n",
    "        if len(listaFactorado)==0:\n",
    "            continue\n",
    "        else:\n",
    "            phi_noT=pgmf.factor_product(*(i for i in listaFactorado))\n",
    "            phi_noT.marginalize([factorillo])\n",
    "            for listaFactorcilleto in listaVariables:\n",
    "                listaFactores2[listaFactorcilleto]=phi_noT\n",
    "            print(factorillo)\n",
    "            print(phi_noT.scope())\n",
    "            print(phi_noT)\n",
    "    for nodo in nodes:\n",
    "        node = nodo\n",
    "    if phi_noT == 'vacio':\n",
    "        phi = pgmf.factor_product(listaFactores2[node])\n",
    "    else:\n",
    "        phi = pgmf.factor_product(phi_noT,listaFactores2[node])\n",
    "    phi.normalize()\n",
    "    return phi"
   ]
  },
  {
   "cell_type": "markdown",
   "metadata": {},
   "source": [
    "El método ___\"Eliminacion de Variables\"___ auna todos los métodos anteriormente vistos en uno solo, haciendo así que el usuario unicamente tenga que seleccionar la probabilidad que desea hallar y dicho método facilitará al usuario el resultado de la consulta."
   ]
  },
  {
   "cell_type": "code",
   "execution_count": null,
   "metadata": {
    "collapsed": true,
    "scrolled": false
   },
   "outputs": [],
   "source": [
    "def eliminacion_de_variables(red):\n",
    "    atri1 = set()\n",
    "    atri2 = list()\n",
    "    atri3 = list()\n",
    "    print(\"Calcular la probabilidad de:\")\n",
    "    atributo1 = input()\n",
    "    while (atributo1 not in red.nodes()) or atributo1 =='':\n",
    "        print(\"Por favor, introduzca un valor válido.\")\n",
    "        print(\"Calcular la probabilidad de:\")\n",
    "        atributo1 = input()\n",
    "    atri1.add(atributo1)\n",
    "    print(\"Dado:\")\n",
    "    atributo2 = input()\n",
    "    print(\"¿Es Cierto o Falso?(si es cierto es 1 si es falso es 0, si no es booleana introduzca su valor)\")\n",
    "    atributo3 = input()\n",
    "    while atributo2 not in red.nodes():\n",
    "        print(\"Por favor, introduzca un valor válido.\")\n",
    "        print(\"Dado:\")\n",
    "        atributo2 = input()\n",
    "        print(\"¿Es Cierto o Falso?(si es cierto es 1 si es falso es 0, si no es booleana introduzca su valor)\")\n",
    "        atributo3 = input()\n",
    "    atri2.append(atributo2)\n",
    "    atri3.append(int(atributo3))\n",
    "    while atributo2 != '':\n",
    "        print(\"y:\")\n",
    "        atributo2 = input()\n",
    "        if atributo2 == '':\n",
    "            break\n",
    "        if atributo2 not in red.nodes() :\n",
    "            print(\"Por favor, introduzca un valor válido.\")\n",
    "        else: \n",
    "            print(\"¿Es Cierto o Falso?(si es cierto es 1 si es falso es 0, si no es booleana introduzca su valor)\")\n",
    "            atributo3 = input()\n",
    "            atri2.append(atributo2)\n",
    "            atri3.append(int(atributo3))\n",
    "\n",
    "\n",
    "    listaFijos=Descartar_fijos(red,atri1,atri2)\n",
    "    listaVariables=Descartar_variables(red,atri1,listaFijos)\n",
    "    print(\"Las variables que se tendran en cuenta son:\")\n",
    "    print(listaVariables)\n",
    "    listaFactores=Obtener_Factores(red,listaVariables,listaFijos,atri3)\n",
    "    \n",
    "    listaFactoresOrdenados=Min_Degree_Heuristica(listaFactores,atri1)\n",
    "    print(\"Orden en el que se van a eliminar los factores:\")\n",
    "    print(listaFactoresOrdenados)\n",
    "    listaFactores2=Obtener_Factores(red,listaVariables,listaFijos,atri3)\n",
    "\n",
    "    for casol in listaFactoresOrdenados.copy():\n",
    "        ancestros = networkx.descendants(red, casol)\n",
    "        if len(ancestros)==0:\n",
    "            listaFactoresOrdenados.remove(casol)\n",
    "        else:\n",
    "            continue\n",
    "    phi=eliminar_variables(red,listaFactoresOrdenados,listaFactores2,atri1)\n",
    "    print(\"Resultado final:\")\n",
    "    print(phi)\n",
    "    \n",
    "    print(\"Se recomienda elegir las siguientes evidencias, ya que podrían modificar mucho su resultado:\")\n",
    "    recomienda=recomendador(red,atributo1,atri2)\n",
    "    print(recomienda)\n",
    "    return phi"
   ]
  },
  {
   "cell_type": "markdown",
   "metadata": {},
   "source": [
    "# Eliminación de Variables."
   ]
  },
  {
   "cell_type": "markdown",
   "metadata": {},
   "source": [
    "Aquí el usuario realizará la consulta que desee.\n",
    "\n",
    "__NOTA:__ Se realizará la consulta al modelo leído en el apartado 1."
   ]
  },
  {
   "cell_type": "code",
   "execution_count": null,
   "metadata": {
    "scrolled": false
   },
   "outputs": [],
   "source": [
    "eliminacion_de_variables(Redes)"
   ]
  },
  {
   "cell_type": "markdown",
   "metadata": {},
   "source": [
    "# Proceso de Muestreo por Rechazo"
   ]
  },
  {
   "cell_type": "markdown",
   "metadata": {},
   "source": [
    "La ___\"Muestra Aleatoria\"___ es una asignación de valores a las variables de una red bayesiana, con probabilidad de generación igual a la probabilidad conjunta de que las variables tomen esos valores."
   ]
  },
  {
   "cell_type": "code",
   "execution_count": null,
   "metadata": {
    "collapsed": true
   },
   "outputs": [],
   "source": [
    "import random\n",
    "\n",
    "def seleccionar_probabilidad(cpd, valor, evidencia):\n",
    "    padres = cpd.evidence if cpd.evidence else []\n",
    "    valores_evidencia = tuple(evidencia[var] for var in padres)\n",
    "    if 'Sangre' in Redes.nodes():\n",
    "        return cpd.values[valor][valores_evidencia]\n",
    "    else:\n",
    "        return cpd.values[valores_evidencia][valor]\n",
    "\n",
    "def generar_valor_aleatorio(cardinalidad, probabilidades):\n",
    "    p = random.random()\n",
    "    acumuladas = 0\n",
    "    for valor in range(cardinalidad):\n",
    "        acumuladas += probabilidades[valor]\n",
    "        if  p<=acumuladas:\n",
    "            return valor\n",
    "    \n",
    "        \n",
    "def muestra_aleatoria(red):\n",
    "    variables = networkx.topological_sort(red)\n",
    "    muestra={}\n",
    "    for variable in variables:\n",
    "        tabla= red.get_cpds(variable)\n",
    "        cardinalidad= tabla.variable_card\n",
    "        probabilidades = [seleccionar_probabilidad(tabla,i,muestra) \n",
    "                     for i in range(cardinalidad)]\n",
    "        valor = generar_valor_aleatorio(cardinalidad,probabilidades)\n",
    "        muestra[variable]=valor\n",
    "    return muestra\n"
   ]
  },
  {
   "cell_type": "code",
   "execution_count": null,
   "metadata": {
    "collapsed": true,
    "scrolled": true
   },
   "outputs": [],
   "source": []
  },
  {
   "cell_type": "code",
   "execution_count": null,
   "metadata": {
    "collapsed": true,
    "scrolled": true
   },
   "outputs": [],
   "source": []
  },
  {
   "cell_type": "markdown",
   "metadata": {},
   "source": [
    "El método ___\"Muestreo con rechazo\"___ dada una red bayesiana, la consulta, una o más evidencias y un número \"N\", se realizarán \"N\" muestras aleatorias, las cuales se analizarán y seguidamente se dará una estimación de la probabilidad de que ocurra el hecho dado por el usuario con las evidencias aportadas por él."
   ]
  },
  {
   "cell_type": "code",
   "execution_count": null,
   "metadata": {
    "collapsed": true
   },
   "outputs": [],
   "source": [
    "import itertools\n",
    "\n",
    "def muestreo_con_rechazo(red,consulta,evidencia,N):\n",
    "    muestras = [muestra_aleatoria(red) for i in range(N)]\n",
    "    muestrasValidas = []\n",
    "    cardinalidades = red.get_cpds(consulta).variable_card\n",
    "    combinaciones=list(range(0,cardinalidades))\n",
    "    for muestra in muestras:\n",
    "        if all(muestra[variable] == evidencia[variable] for variable in evidencia):\n",
    "            muestrasValidas.append(muestra)\n",
    "    frecuencias = {combinacion : 0 for combinacion in combinaciones}\n",
    "    for muestrad in muestrasValidas:\n",
    "        combinacion = muestrad[consulta]\n",
    "        if combinacion==None:\n",
    "            combinacion=1\n",
    "        frecuencias[combinacion] +=1\n",
    "    print(frecuencias)\n",
    "    Modelo_ejemplo = pgmm.BayesianModel()\n",
    "    Modelo_ejemplo.add_node(consulta)\n",
    "    Ejemplo_CPD = pgmf.TabularCPD(consulta, cardinalidades, [[frecuencias[key] for key in frecuencias.keys()]])\n",
    "    print(Ejemplo_CPD)\n",
    "    Ejemplo_CPD.normalize()\n",
    "    return Ejemplo_CPD\n",
    "\n"
   ]
  },
  {
   "cell_type": "markdown",
   "metadata": {},
   "source": [
    "# Muestreo Por Rechazo"
   ]
  },
  {
   "cell_type": "code",
   "execution_count": null,
   "metadata": {
    "collapsed": true
   },
   "outputs": [],
   "source": [
    "def Rechazo(red):\n",
    "    \n",
    "    atri11 = \"\"\n",
    "    atri21 = list()\n",
    "    atri31 = list()\n",
    "    atri41 = 0\n",
    "    print(\"Calcular la probabilidad de:\")\n",
    "    atributo11 = input()\n",
    "    while (atributo11 not in red.nodes()) or atributo11 =='':\n",
    "        print(\"Por favor, introduzca un valor válido.\")\n",
    "        print(\"Calcular la probabilidad de:\")\n",
    "        atributo11 = input()\n",
    "    atri11 = atributo11\n",
    "    print(\"Dado:\")\n",
    "    atributo21 = input()\n",
    "    print(\"¿Es Cierto o Falso?(si es cierto es 1 si es falso es 0, si no es booleana introduzca su valor)\")\n",
    "    atributo31 = input()\n",
    "    while atributo21 not in red.nodes():\n",
    "        print(\"Por favor, introduzca un valor válido.\")\n",
    "        print(\"Dado:\")\n",
    "        atributo21 = input()\n",
    "        print(\"¿Es Cierto o Falso?(si es cierto es 1 si es falso es 0, si no es booleana introduzca su valor)\")\n",
    "        atributo31 = input()\n",
    "    atri21.append(atributo21)\n",
    "    atri31.append(int(atributo31))\n",
    "    while atributo21 != '':\n",
    "        print(\"y:\")\n",
    "        atributo21 = input()\n",
    "        if atributo21 == '':\n",
    "            break\n",
    "        if atributo21 not in red.nodes() :\n",
    "            print(\"Por favor, introduzca un valor válido.\")\n",
    "        else: \n",
    "            print(\"¿Es Cierto o Falso?(si es cierto es 1 si es falso es 0, si no es booleana introduzca su valor)\")\n",
    "            atributo31 = input()\n",
    "            atri21.append(atributo21)\n",
    "            atri31.append(int(atributo31))\n",
    "            \n",
    "    print(\"¿Cuantas muestras aleatorias desea generar:\")\n",
    "    atributo41 = input()\n",
    "    while (atributo41 == 0 or atributo41 ==''):\n",
    "        print(\"Por favor, introduzca un valor válido.\")\n",
    "        print(\"¿Cuantas muestras aleatorias desea generar?\")\n",
    "        atributo41 = input()\n",
    "    atri41 = (int(atributo41))   \n",
    "            \n",
    "    ListaCardinalidades={\"Nombre\":\"Arturo Elias\",\"Apellido\":\"Anton\"}\n",
    "    ListaCardinalidades.clear()\n",
    "    i=0\n",
    "   \n",
    "    for lf in atri21:\n",
    "        ListaCardinalidades[lf]=atri31[i]\n",
    "        i=i+1\n",
    "\n",
    "    muestreo =muestreo_con_rechazo(red, atri11 , ListaCardinalidades, atri41)\n",
    "    print(muestreo)"
   ]
  },
  {
   "cell_type": "code",
   "execution_count": null,
   "metadata": {
    "collapsed": true
   },
   "outputs": [],
   "source": []
  },
  {
   "cell_type": "code",
   "execution_count": null,
   "metadata": {},
   "outputs": [],
   "source": [
    "Rechazo(Redes)"
   ]
  },
  {
   "cell_type": "markdown",
   "metadata": {},
   "source": [
    "Rechazo(Redes)"
   ]
  }
 ],
 "metadata": {
  "kernelspec": {
   "display_name": "Python 3",
   "language": "python",
   "name": "python3"
  },
  "language_info": {
   "codemirror_mode": {
    "name": "ipython",
    "version": 3
   },
   "file_extension": ".py",
   "mimetype": "text/x-python",
   "name": "python",
   "nbconvert_exporter": "python",
   "pygments_lexer": "ipython3",
   "version": "3.6.1"
  }
 },
 "nbformat": 4,
 "nbformat_minor": 2
}
